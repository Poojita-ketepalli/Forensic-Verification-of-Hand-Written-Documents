{
 "cells": [
  {
   "cell_type": "code",
   "execution_count": 2,
   "id": "d6e0f7a7-f126-442f-a3b6-e056a084aa11",
   "metadata": {},
   "outputs": [],
   "source": [
    "from tensorflow.keras.layers import Conv2D,Flatten,Dense,MaxPool2D,BatchNormalization, GlobalAveragePooling2D\n",
    "from tensorflow.keras.applications.resnet50 import preprocess_input, decode_predictions\n",
    "from tensorflow.keras.preprocessing.image import ImageDataGenerator,load_img\n",
    "from keras.applications.vgg16 import VGG16\n",
    "from tensorflow.keras.preprocessing import image\n",
    "from tensorflow.keras.models import Sequential\n",
    "from tensorflow.keras.models import Model\n",
    "import matplotlib.pyplot as plt\n",
    "import numpy as np\n",
    "from keras.layers import Activation, Dense, Dropout\n",
    "\n",
    "img_height, img_width = (224,224)\n",
    "batch_size = 32\n",
    "\n",
    "train_data_dir = r\"H:\\Forensic-processed_data\\train\"\n",
    "valid_data_dir = r\"H:\\Forensic-processed_data\\val\"\n",
    "test_data_dir = r\"H:\\Forensic-processed_data\\test\""
   ]
  },
  {
   "cell_type": "code",
   "execution_count": 3,
   "id": "63ff3096-5da3-4af6-a950-a676340dad0c",
   "metadata": {},
   "outputs": [
    {
     "name": "stdout",
     "output_type": "stream",
     "text": [
      "Found 478 images belonging to 2 classes.\n",
      "Found 105 images belonging to 2 classes.\n"
     ]
    }
   ],
   "source": [
    "train_datagen = ImageDataGenerator(preprocessing_function=preprocess_input,\n",
    "                                  shear_range=0.2,\n",
    "                                  zoom_range=0.2,\n",
    "                                  horizontal_flip=True,\n",
    "                                  validation_split=0.4)\n",
    "\n",
    "train_generator = train_datagen.flow_from_directory(\n",
    "train_data_dir,\n",
    "target_size=(img_height, img_width),\n",
    "batch_size=batch_size,\n",
    "class_mode='categorical',\n",
    "subset='training') # set as training data\n",
    "\n",
    "valid_generator = train_datagen.flow_from_directory(\n",
    "valid_data_dir, # some directory as training data\n",
    "target_size=(img_height, img_width),\n",
    "batch_size=batch_size,\n",
    "class_mode='categorical',\n",
    "subset='validation') # set as validation data"
   ]
  },
  {
   "cell_type": "code",
   "execution_count": 4,
   "id": "97a39c8c-df83-47ce-b561-1a0edc14eef1",
   "metadata": {},
   "outputs": [
    {
     "name": "stdout",
     "output_type": "stream",
     "text": [
      "Found 105 images belonging to 2 classes.\n"
     ]
    }
   ],
   "source": [
    "test_generator = train_datagen.flow_from_directory(\n",
    "test_data_dir, # some directory as training data\n",
    "target_size=(img_height, img_width),\n",
    "batch_size=1,\n",
    "class_mode='categorical',\n",
    "subset='validation') # set as validation data"
   ]
  },
  {
   "cell_type": "code",
   "execution_count": 7,
   "id": "268914f7-ecec-4da5-b9d5-365561c8ec73",
   "metadata": {},
   "outputs": [
    {
     "name": "stdout",
     "output_type": "stream",
     "text": [
      "Epoch 1/20\n",
      "15/15 [==============================] - 45s 3s/step - loss: 2.3306 - accuracy: 0.5690\n",
      "Epoch 2/20\n",
      "15/15 [==============================] - 50s 3s/step - loss: 0.8133 - accuracy: 0.6653\n",
      "Epoch 3/20\n",
      "15/15 [==============================] - 50s 3s/step - loss: 0.5825 - accuracy: 0.7218\n",
      "Epoch 4/20\n",
      "15/15 [==============================] - 50s 3s/step - loss: 0.4603 - accuracy: 0.7762\n",
      "Epoch 5/20\n",
      "15/15 [==============================] - 50s 3s/step - loss: 0.4577 - accuracy: 0.7950\n",
      "Epoch 6/20\n",
      "15/15 [==============================] - 50s 3s/step - loss: 0.5677 - accuracy: 0.7573\n",
      "Epoch 7/20\n",
      "15/15 [==============================] - 50s 3s/step - loss: 0.3964 - accuracy: 0.8201\n",
      "Epoch 8/20\n",
      "15/15 [==============================] - 50s 3s/step - loss: 0.3892 - accuracy: 0.8264\n",
      "Epoch 9/20\n",
      "15/15 [==============================] - 50s 3s/step - loss: 0.4776 - accuracy: 0.8159\n",
      "Epoch 10/20\n",
      "15/15 [==============================] - 50s 3s/step - loss: 0.4192 - accuracy: 0.8033\n",
      "Epoch 11/20\n",
      "15/15 [==============================] - 50s 3s/step - loss: 0.3542 - accuracy: 0.8452\n",
      "Epoch 12/20\n",
      "15/15 [==============================] - 50s 3s/step - loss: 0.2682 - accuracy: 0.8870\n",
      "Epoch 13/20\n",
      "15/15 [==============================] - 50s 3s/step - loss: 0.2953 - accuracy: 0.8682\n",
      "Epoch 14/20\n",
      "15/15 [==============================] - 50s 3s/step - loss: 0.2756 - accuracy: 0.8975\n",
      "Epoch 15/20\n",
      "15/15 [==============================] - 50s 3s/step - loss: 0.2560 - accuracy: 0.8912\n",
      "Epoch 16/20\n",
      "15/15 [==============================] - 50s 3s/step - loss: 0.3167 - accuracy: 0.8661\n",
      "Epoch 17/20\n",
      "15/15 [==============================] - 50s 3s/step - loss: 0.3150 - accuracy: 0.8536\n",
      "Epoch 18/20\n",
      "15/15 [==============================] - 50s 3s/step - loss: 0.2484 - accuracy: 0.8891\n",
      "Epoch 19/20\n",
      "15/15 [==============================] - 50s 3s/step - loss: 0.2421 - accuracy: 0.8975\n",
      "Epoch 20/20\n",
      "15/15 [==============================] - 50s 3s/step - loss: 0.2095 - accuracy: 0.8996\n"
     ]
    },
    {
     "data": {
      "text/plain": [
       "<tensorflow.python.keras.callbacks.History at 0x221c4dcc080>"
      ]
     },
     "execution_count": 7,
     "metadata": {},
     "output_type": "execute_result"
    }
   ],
   "source": [
    "#without dense layer\n",
    "base_model = VGG16(include_top=False, weights='imagenet')\n",
    "x = base_model.output\n",
    "x = GlobalAveragePooling2D()(x)\n",
    "x = Dense(1024, activation='relu')(x)\n",
    "predictions = Dense(train_generator.num_classes, activation='softmax')(x)\n",
    "model = Model(inputs=base_model.input, outputs=predictions)\n",
    "\n",
    "for layer in base_model.layers:\n",
    "    layer.trainable = False\n",
    "    \n",
    "model.compile(optimizer='adam', loss='categorical_crossentropy', metrics = ['accuracy'])\n",
    "\n",
    "model.fit(train_generator,\n",
    "         epochs = 20)"
   ]
  },
  {
   "cell_type": "code",
   "execution_count": 8,
   "id": "97139122-a3b2-4553-b48c-4351b476fff9",
   "metadata": {},
   "outputs": [
    {
     "name": "stdout",
     "output_type": "stream",
     "text": [
      "Epoch 1/20\n",
      "4/4 [==============================] - 10s 2s/step - loss: 0.6103 - accuracy: 0.7333\n",
      "Epoch 2/20\n",
      "4/4 [==============================] - 10s 2s/step - loss: 0.4314 - accuracy: 0.8000\n",
      "Epoch 3/20\n",
      "4/4 [==============================] - 10s 2s/step - loss: 0.4422 - accuracy: 0.8095\n",
      "Epoch 4/20\n",
      "4/4 [==============================] - 10s 3s/step - loss: 0.3736 - accuracy: 0.8286\n",
      "Epoch 5/20\n",
      "4/4 [==============================] - 10s 2s/step - loss: 0.5237 - accuracy: 0.8190\n",
      "Epoch 6/20\n",
      "4/4 [==============================] - 11s 3s/step - loss: 0.4830 - accuracy: 0.8571\n",
      "Epoch 7/20\n",
      "4/4 [==============================] - 11s 3s/step - loss: 0.4300 - accuracy: 0.8095\n",
      "Epoch 8/20\n",
      "4/4 [==============================] - 11s 3s/step - loss: 0.4994 - accuracy: 0.8381\n",
      "Epoch 9/20\n",
      "4/4 [==============================] - 11s 3s/step - loss: 0.4064 - accuracy: 0.8476\n",
      "Epoch 10/20\n",
      "4/4 [==============================] - 11s 3s/step - loss: 0.2196 - accuracy: 0.8857\n",
      "Epoch 11/20\n",
      "4/4 [==============================] - 11s 2s/step - loss: 0.3593 - accuracy: 0.8381\n",
      "Epoch 12/20\n",
      "4/4 [==============================] - 11s 2s/step - loss: 0.3464 - accuracy: 0.8667\n",
      "Epoch 13/20\n",
      "4/4 [==============================] - 11s 3s/step - loss: 0.3591 - accuracy: 0.8571\n",
      "Epoch 14/20\n",
      "4/4 [==============================] - 11s 3s/step - loss: 0.2021 - accuracy: 0.8762\n",
      "Epoch 15/20\n",
      "4/4 [==============================] - 11s 3s/step - loss: 0.1404 - accuracy: 0.9429\n",
      "Epoch 16/20\n",
      "4/4 [==============================] - 11s 3s/step - loss: 0.1311 - accuracy: 0.9619\n",
      "Epoch 17/20\n",
      "4/4 [==============================] - 11s 3s/step - loss: 0.1889 - accuracy: 0.9238\n",
      "Epoch 18/20\n",
      "4/4 [==============================] - 11s 3s/step - loss: 0.0758 - accuracy: 0.9810\n",
      "Epoch 19/20\n",
      "4/4 [==============================] - 11s 3s/step - loss: 0.1255 - accuracy: 0.9238\n",
      "Epoch 20/20\n",
      "4/4 [==============================] - 11s 3s/step - loss: 0.0979 - accuracy: 0.9714\n"
     ]
    },
    {
     "data": {
      "text/plain": [
       "<tensorflow.python.keras.callbacks.History at 0x221c50e0128>"
      ]
     },
     "execution_count": 8,
     "metadata": {},
     "output_type": "execute_result"
    }
   ],
   "source": [
    "model.fit(valid_generator, epochs=20)"
   ]
  },
  {
   "cell_type": "code",
   "execution_count": 9,
   "id": "0d77c88e-b0a3-4279-adf3-58c773f3ef33",
   "metadata": {},
   "outputs": [
    {
     "name": "stdout",
     "output_type": "stream",
     "text": [
      "105/105 - 12s - loss: 0.6235 - accuracy: 0.8000\n",
      "\n",
      "Test accuracy: 0.800000011920929\n"
     ]
    }
   ],
   "source": [
    "test_loss, test_acc = model.evaluate(test_generator, verbose=2)\n",
    "print('\\nTest accuracy:', test_acc)"
   ]
  },
  {
   "cell_type": "code",
   "execution_count": 10,
   "id": "e6302ece-4b1a-471d-9676-0ca942f20f21",
   "metadata": {},
   "outputs": [],
   "source": [
    "model.save('model_vgg16_1.h5')"
   ]
  },
  {
   "cell_type": "code",
   "execution_count": 22,
   "id": "d25707fc-a6c1-4a91-9def-12bd70204d71",
   "metadata": {},
   "outputs": [
    {
     "data": {
      "image/png": "[encoded data removed]",
      "text/plain": [
       "<Figure size 432x288 with 2 Axes>"
      ]
     },
     "metadata": {
      "needs_background": "light"
     },
     "output_type": "display_data"
    },
    {
     "name": "stdout",
     "output_type": "stream",
     "text": [
      "Test accuracy : 80.95238095238095\n"
     ]
    }
   ],
   "source": [
    "import pandas as pd\n",
    "import seaborn as sns\n",
    "import tensorflow as tf\n",
    "\n",
    "model = tf.keras.models.load_model(r\"model_vgg16_1.h5\")\n",
    "filenames = test_generator.filenames\n",
    "nb_samples = len(test_generator)\n",
    "y_prob=[]\n",
    "y_act=[]\n",
    "test_generator.reset()\n",
    "for _ in range(nb_samples):\n",
    "    X_test,Y_test = test_generator.next()\n",
    "    y_prob.append(model.predict(X_test))\n",
    "    y_act.append(Y_test)\n",
    "\n",
    "predicted_class = [list(train_generator.class_indices.keys())[i.argmax()] for i in y_prob]\n",
    "actual_class = [list(train_generator.class_indices.keys())[i.argmax()] for i in y_act]\n",
    "\n",
    "out_df = pd.DataFrame(np.vstack([predicted_class,actual_class]).T,columns=['predicted_class','actual_class'])\n",
    "confusion_matrix = pd.crosstab(out_df['actual_class'],out_df['predicted_class'], rownames=['Actual'], colnames=['Predicted'])\n",
    "\n",
    "sns.heatmap(confusion_matrix,cmap='Blues', annot=True,fmt='d')\n",
    "plt.show()\n",
    "print('Test accuracy : {}'.format((np.diagonal(confusion_matrix).sum()/confusion_matrix.sum().sum()*100)))"
   ]
  },
  {
   "cell_type": "code",
   "execution_count": null,
   "id": "a42e8763-3d67-4bc4-a1a7-2b5b562f5053",
   "metadata": {},
   "outputs": [],
   "source": []
  },
  {
   "cell_type": "code",
   "execution_count": 14,
   "id": "56cb6385",
   "metadata": {},
   "outputs": [
    {
     "name": "stdout",
     "output_type": "stream",
     "text": [
      "Epoch 1/20\n",
      "15/15 [==============================] - 40s 3s/step - loss: 0.9928 - accuracy: 0.5690\n",
      "Epoch 2/20\n",
      "15/15 [==============================] - 41s 3s/step - loss: 0.6783 - accuracy: 0.6402\n",
      "Epoch 3/20\n",
      "15/15 [==============================] - 40s 3s/step - loss: 0.6690 - accuracy: 0.6527\n",
      "Epoch 4/20\n",
      "15/15 [==============================] - 40s 3s/step - loss: 0.5930 - accuracy: 0.7071\n",
      "Epoch 5/20\n",
      "15/15 [==============================] - 41s 3s/step - loss: 0.5600 - accuracy: 0.7197\n",
      "Epoch 6/20\n",
      "15/15 [==============================] - 42s 3s/step - loss: 0.5546 - accuracy: 0.7134\n",
      "Epoch 7/20\n",
      "15/15 [==============================] - 41s 3s/step - loss: 0.5458 - accuracy: 0.7343\n",
      "Epoch 8/20\n",
      "15/15 [==============================] - 41s 3s/step - loss: 0.5178 - accuracy: 0.7699\n",
      "Epoch 9/20\n",
      "15/15 [==============================] - 41s 3s/step - loss: 0.5172 - accuracy: 0.7490\n",
      "Epoch 10/20\n",
      "15/15 [==============================] - 40s 3s/step - loss: 0.4953 - accuracy: 0.7322\n",
      "Epoch 11/20\n",
      "15/15 [==============================] - 40s 3s/step - loss: 0.4817 - accuracy: 0.7741\n",
      "Epoch 12/20\n",
      "15/15 [==============================] - 40s 3s/step - loss: 0.4719 - accuracy: 0.7657\n",
      "Epoch 13/20\n",
      "15/15 [==============================] - 40s 3s/step - loss: 0.5054 - accuracy: 0.7636\n",
      "Epoch 14/20\n",
      "15/15 [==============================] - 40s 3s/step - loss: 0.4786 - accuracy: 0.7720\n",
      "Epoch 15/20\n",
      "15/15 [==============================] - 40s 3s/step - loss: 0.4671 - accuracy: 0.7552\n",
      "Epoch 16/20\n",
      "15/15 [==============================] - 40s 3s/step - loss: 0.4828 - accuracy: 0.7762\n",
      "Epoch 17/20\n",
      "15/15 [==============================] - 42s 3s/step - loss: 0.4912 - accuracy: 0.7427\n",
      "Epoch 18/20\n",
      "15/15 [==============================] - 40s 3s/step - loss: 0.4690 - accuracy: 0.7950\n",
      "Epoch 19/20\n",
      "15/15 [==============================] - 44s 3s/step - loss: 0.4484 - accuracy: 0.7929\n",
      "Epoch 20/20\n",
      "15/15 [==============================] - 42s 3s/step - loss: 0.4404 - accuracy: 0.7992\n"
     ]
    },
    {
     "data": {
      "text/plain": [
       "<tensorflow.python.keras.callbacks.History at 0x221cbc779e8>"
      ]
     },
     "execution_count": 14,
     "metadata": {},
     "output_type": "execute_result"
    }
   ],
   "source": [
    "#without dense layer\n",
    "base_model = VGG16(include_top=False, weights='imagenet')\n",
    "x = base_model.output\n",
    "x = GlobalAveragePooling2D()(x)\n",
    "x = Dense(1024, activation='relu')(x)\n",
    "predictions = Dense(train_generator.num_classes, activation='softmax')(x)\n",
    "model = Model(inputs=base_model.input, outputs=predictions)\n",
    "\n",
    "for layer in base_model.layers:\n",
    "    layer.trainable = False\n",
    "    \n",
    "model.compile(optimizer='adagrad', loss='categorical_crossentropy', metrics = ['accuracy'])\n",
    "\n",
    "model.fit(train_generator,\n",
    "         epochs = 20)"
   ]
  },
  {
   "cell_type": "code",
   "execution_count": 15,
   "id": "b3283558",
   "metadata": {},
   "outputs": [
    {
     "name": "stdout",
     "output_type": "stream",
     "text": [
      "Epoch 1/20\n",
      "4/4 [==============================] - 7s 2s/step - loss: 0.6719 - accuracy: 0.6286\n",
      "Epoch 2/20\n",
      "4/4 [==============================] - 8s 2s/step - loss: 0.6534 - accuracy: 0.6667\n",
      "Epoch 3/20\n",
      "4/4 [==============================] - 8s 2s/step - loss: 0.6139 - accuracy: 0.6571\n",
      "Epoch 4/20\n",
      "4/4 [==============================] - 9s 2s/step - loss: 0.5276 - accuracy: 0.7333\n",
      "Epoch 5/20\n",
      "4/4 [==============================] - 9s 2s/step - loss: 0.5329 - accuracy: 0.7143\n",
      "Epoch 6/20\n",
      "4/4 [==============================] - 9s 2s/step - loss: 0.5188 - accuracy: 0.7143\n",
      "Epoch 7/20\n",
      "4/4 [==============================] - 10s 2s/step - loss: 0.6415 - accuracy: 0.6762\n",
      "Epoch 8/20\n",
      "4/4 [==============================] - 9s 2s/step - loss: 0.5214 - accuracy: 0.7429\n",
      "Epoch 9/20\n",
      "4/4 [==============================] - 9s 3s/step - loss: 0.5228 - accuracy: 0.7714\n",
      "Epoch 10/20\n",
      "4/4 [==============================] - 9s 3s/step - loss: 0.4619 - accuracy: 0.7810\n",
      "Epoch 11/20\n",
      "4/4 [==============================] - 9s 3s/step - loss: 0.5051 - accuracy: 0.7810\n",
      "Epoch 12/20\n",
      "4/4 [==============================] - 9s 2s/step - loss: 0.4635 - accuracy: 0.8000\n",
      "Epoch 13/20\n",
      "4/4 [==============================] - 9s 2s/step - loss: 0.5205 - accuracy: 0.7333\n",
      "Epoch 14/20\n",
      "4/4 [==============================] - 9s 3s/step - loss: 0.4407 - accuracy: 0.8000\n",
      "Epoch 15/20\n",
      "4/4 [==============================] - 9s 2s/step - loss: 0.4410 - accuracy: 0.8190\n",
      "Epoch 16/20\n",
      "4/4 [==============================] - 9s 2s/step - loss: 0.4623 - accuracy: 0.8190\n",
      "Epoch 17/20\n",
      "4/4 [==============================] - 9s 2s/step - loss: 0.3976 - accuracy: 0.8571\n",
      "Epoch 18/20\n",
      "4/4 [==============================] - 9s 2s/step - loss: 0.4075 - accuracy: 0.8476\n",
      "Epoch 19/20\n",
      "4/4 [==============================] - 9s 2s/step - loss: 0.3984 - accuracy: 0.8000\n",
      "Epoch 20/20\n",
      "4/4 [==============================] - 9s 3s/step - loss: 0.4444 - accuracy: 0.7714\n"
     ]
    },
    {
     "data": {
      "text/plain": [
       "<tensorflow.python.keras.callbacks.History at 0x221cd7c8f60>"
      ]
     },
     "execution_count": 15,
     "metadata": {},
     "output_type": "execute_result"
    }
   ],
   "source": [
    "model.fit(valid_generator, epochs=20)"
   ]
  },
  {
   "cell_type": "code",
   "execution_count": 16,
   "id": "ce8557a8",
   "metadata": {},
   "outputs": [
    {
     "name": "stdout",
     "output_type": "stream",
     "text": [
      "105/105 - 8s - loss: 0.5248 - accuracy: 0.7429\n",
      "\n",
      "Test accuracy: 0.7428571581840515\n"
     ]
    }
   ],
   "source": [
    "test_loss, test_acc = model.evaluate(test_generator, verbose=2)\n",
    "print('\\nTest accuracy:', test_acc)"
   ]
  },
  {
   "cell_type": "code",
   "execution_count": 17,
   "id": "92316050",
   "metadata": {},
   "outputs": [],
   "source": [
    "model.save('model_vgg16_2.h5')"
   ]
  },
  {
   "cell_type": "code",
   "execution_count": 18,
   "id": "abffc3fd",
   "metadata": {},
   "outputs": [
    {
     "data": {
      "image/png": "[encoded data removed]",
      "text/plain": [
       "<Figure size 432x288 with 2 Axes>"
      ]
     },
     "metadata": {
      "needs_background": "light"
     },
     "output_type": "display_data"
    },
    {
     "name": "stdout",
     "output_type": "stream",
     "text": [
      "Test accuracy : 81.9047619047619\n"
     ]
    }
   ],
   "source": [
    "import pandas as pd\n",
    "import seaborn as sns\n",
    "import tensorflow as tf\n",
    "\n",
    "model = tf.keras.models.load_model(r\"model_vgg16_1.h5\")\n",
    "filenames = test_generator.filenames\n",
    "nb_samples = len(test_generator)\n",
    "y_prob=[]\n",
    "y_act=[]\n",
    "test_generator.reset()\n",
    "for _ in range(nb_samples):\n",
    "    X_test,Y_test = test_generator.next()\n",
    "    y_prob.append(model.predict(X_test))\n",
    "    y_act.append(Y_test)\n",
    "\n",
    "predicted_class = [list(train_generator.class_indices.keys())[i.argmax()] for i in y_prob]\n",
    "actual_class = [list(train_generator.class_indices.keys())[i.argmax()] for i in y_act]\n",
    "\n",
    "out_df = pd.DataFrame(np.vstack([predicted_class,actual_class]).T,columns=['predicted_class','actual_class'])\n",
    "confusion_matrix = pd.crosstab(out_df['actual_class'],out_df['predicted_class'], rownames=['Actual'], colnames=['Predicted'])\n",
    "\n",
    "sns.heatmap(confusion_matrix,cmap='Blues', annot=True,fmt='d')\n",
    "plt.show()\n",
    "print('Test accuracy : {}'.format((np.diagonal(confusion_matrix).sum()/confusion_matrix.sum().sum()*100)))"
   ]
  },
  {
   "cell_type": "code",
   "execution_count": null,
   "id": "c8cc96ba",
   "metadata": {},
   "outputs": [],
   "source": []
  },
  {
   "cell_type": "code",
   "execution_count": 21,
   "id": "af6f1816",
   "metadata": {},
   "outputs": [
    {
     "ename": "AttributeError",
     "evalue": "module 'keras.utils.generic_utils' has no attribute 'populate_dict_with_module_objects'",
     "output_type": "error",
     "traceback": [
      "\u001b[1;31m---------------------------------------------------------------------------\u001b[0m",
      "\u001b[1;31mAttributeError\u001b[0m                            Traceback (most recent call last)",
      "\u001b[1;32m<ipython-input-21-5e01ec8707fb>\u001b[0m in \u001b[0;36m<module>\u001b[1;34m\u001b[0m\n\u001b[0;32m      1\u001b[0m \u001b[1;31m#without dense layer\u001b[0m\u001b[1;33m\u001b[0m\u001b[1;33m\u001b[0m\u001b[0m\n\u001b[1;32m----> 2\u001b[1;33m \u001b[1;32mfrom\u001b[0m \u001b[0mkeras\u001b[0m \u001b[1;32mimport\u001b[0m \u001b[0moptimizers\u001b[0m\u001b[1;33m\u001b[0m\u001b[0m\n\u001b[0m\u001b[0;32m      3\u001b[0m \u001b[0mbase_model\u001b[0m \u001b[1;33m=\u001b[0m \u001b[0mVGG16\u001b[0m\u001b[1;33m(\u001b[0m\u001b[0minclude_top\u001b[0m\u001b[1;33m=\u001b[0m\u001b[1;32mFalse\u001b[0m\u001b[1;33m,\u001b[0m \u001b[0mweights\u001b[0m\u001b[1;33m=\u001b[0m\u001b[1;34m'imagenet'\u001b[0m\u001b[1;33m)\u001b[0m\u001b[1;33m\u001b[0m\u001b[0m\n\u001b[0;32m      4\u001b[0m \u001b[0mx\u001b[0m \u001b[1;33m=\u001b[0m \u001b[0mbase_model\u001b[0m\u001b[1;33m.\u001b[0m\u001b[0moutput\u001b[0m\u001b[1;33m\u001b[0m\u001b[0m\n\u001b[0;32m      5\u001b[0m \u001b[0mx\u001b[0m \u001b[1;33m=\u001b[0m \u001b[0mGlobalAveragePooling2D\u001b[0m\u001b[1;33m(\u001b[0m\u001b[1;33m)\u001b[0m\u001b[1;33m(\u001b[0m\u001b[0mx\u001b[0m\u001b[1;33m)\u001b[0m\u001b[1;33m\u001b[0m\u001b[0m\n",
      "\u001b[1;32m~\\anaconda3\\envs\\gputest\\lib\\site-packages\\keras\\__init__.py\u001b[0m in \u001b[0;36m<module>\u001b[1;34m\u001b[0m\n\u001b[0;32m     18\u001b[0m \u001b[1;32mfrom\u001b[0m \u001b[1;33m.\u001b[0m \u001b[1;32mimport\u001b[0m \u001b[0mcallbacks\u001b[0m\u001b[1;33m\u001b[0m\u001b[0m\n\u001b[0;32m     19\u001b[0m \u001b[1;32mfrom\u001b[0m \u001b[1;33m.\u001b[0m \u001b[1;32mimport\u001b[0m \u001b[0mconstraints\u001b[0m\u001b[1;33m\u001b[0m\u001b[0m\n\u001b[1;32m---> 20\u001b[1;33m \u001b[1;32mfrom\u001b[0m \u001b[1;33m.\u001b[0m \u001b[1;32mimport\u001b[0m \u001b[0minitializers\u001b[0m\u001b[1;33m\u001b[0m\u001b[0m\n\u001b[0m\u001b[0;32m     21\u001b[0m \u001b[1;32mfrom\u001b[0m \u001b[1;33m.\u001b[0m \u001b[1;32mimport\u001b[0m \u001b[0mmetrics\u001b[0m\u001b[1;33m\u001b[0m\u001b[0m\n\u001b[0;32m     22\u001b[0m \u001b[1;32mfrom\u001b[0m \u001b[1;33m.\u001b[0m \u001b[1;32mimport\u001b[0m \u001b[0mmodels\u001b[0m\u001b[1;33m\u001b[0m\u001b[0m\n",
      "\u001b[1;32m~\\anaconda3\\envs\\gputest\\lib\\site-packages\\keras\\initializers\\__init__.py\u001b[0m in \u001b[0;36m<module>\u001b[1;34m\u001b[0m\n\u001b[0;32m    122\u001b[0m \u001b[1;31m# from ALL_OBJECTS. We make no guarantees as to whether these objects will\u001b[0m\u001b[1;33m\u001b[0m\u001b[1;33m\u001b[0m\u001b[0m\n\u001b[0;32m    123\u001b[0m \u001b[1;31m# using their correct version.\u001b[0m\u001b[1;33m\u001b[0m\u001b[1;33m\u001b[0m\u001b[0m\n\u001b[1;32m--> 124\u001b[1;33m \u001b[0mpopulate_deserializable_objects\u001b[0m\u001b[1;33m(\u001b[0m\u001b[1;33m)\u001b[0m\u001b[1;33m\u001b[0m\u001b[0m\n\u001b[0m\u001b[0;32m    125\u001b[0m \u001b[0mglobals\u001b[0m\u001b[1;33m(\u001b[0m\u001b[1;33m)\u001b[0m\u001b[1;33m.\u001b[0m\u001b[0mupdate\u001b[0m\u001b[1;33m(\u001b[0m\u001b[0mLOCAL\u001b[0m\u001b[1;33m.\u001b[0m\u001b[0mALL_OBJECTS\u001b[0m\u001b[1;33m)\u001b[0m\u001b[1;33m\u001b[0m\u001b[0m\n\u001b[0;32m    126\u001b[0m \u001b[1;33m\u001b[0m\u001b[0m\n",
      "\u001b[1;32m~\\anaconda3\\envs\\gputest\\lib\\site-packages\\keras\\initializers\\__init__.py\u001b[0m in \u001b[0;36mpopulate_deserializable_objects\u001b[1;34m()\u001b[0m\n\u001b[0;32m     80\u001b[0m     \u001b[0mv2_objs\u001b[0m \u001b[1;33m=\u001b[0m \u001b[1;33m{\u001b[0m\u001b[1;33m}\u001b[0m\u001b[1;33m\u001b[0m\u001b[0m\n\u001b[0;32m     81\u001b[0m     \u001b[0mbase_cls\u001b[0m \u001b[1;33m=\u001b[0m \u001b[0minitializers_v2\u001b[0m\u001b[1;33m.\u001b[0m\u001b[0mInitializer\u001b[0m\u001b[1;33m\u001b[0m\u001b[0m\n\u001b[1;32m---> 82\u001b[1;33m     generic_utils.populate_dict_with_module_objects(\n\u001b[0m\u001b[0;32m     83\u001b[0m         \u001b[0mv2_objs\u001b[0m\u001b[1;33m,\u001b[0m\u001b[1;33m\u001b[0m\u001b[0m\n\u001b[0;32m     84\u001b[0m         \u001b[1;33m[\u001b[0m\u001b[0minitializers_v2\u001b[0m\u001b[1;33m]\u001b[0m\u001b[1;33m,\u001b[0m\u001b[1;33m\u001b[0m\u001b[0m\n",
      "\u001b[1;31mAttributeError\u001b[0m: module 'keras.utils.generic_utils' has no attribute 'populate_dict_with_module_objects'"
     ]
    }
   ],
   "source": [
    "#without dense layer\n",
    "from keras import optimizers\n",
    "base_model = VGG16(include_top=False, weights='imagenet')\n",
    "x = base_model.output\n",
    "x = GlobalAveragePooling2D()(x)\n",
    "x = Dense(1024, activation='relu')(x)\n",
    "predictions = Dense(train_generator.num_classes, activation='softmax')(x)\n",
    "model = Model(inputs=base_model.input, outputs=predictions)\n",
    "\n",
    "for layer in base_model.layers:\n",
    "    layer.trainable = False\n",
    "    \n",
    "model.compile(optimizer=optimizers.SGD(lr=1e-4, momentum=0.9), loss='categorical_crossentropy', metrics = ['accuracy'])\n",
    "\n",
    "model.fit(train_generator,\n",
    "         epochs = 20)"
   ]
  },
  {
   "cell_type": "code",
   "execution_count": null,
   "id": "ce9898e3",
   "metadata": {},
   "outputs": [],
   "source": [
    "model.fit(valid_generator, epochs=20)"
   ]
  },
  {
   "cell_type": "code",
   "execution_count": null,
   "id": "d2088222",
   "metadata": {},
   "outputs": [],
   "source": [
    "test_loss, test_acc = model.evaluate(test_generator, verbose=2)\n",
    "print('\\nTest accuracy:', test_acc)"
   ]
  },
  {
   "cell_type": "code",
   "execution_count": null,
   "id": "6833907c",
   "metadata": {},
   "outputs": [],
   "source": [
    "model.save('model_vgg16_1.h5')"
   ]
  },
  {
   "cell_type": "code",
   "execution_count": null,
   "id": "f661d8f1",
   "metadata": {},
   "outputs": [],
   "source": [
    "import pandas as pd\n",
    "import seaborn as sns\n",
    "import tensorflow as tf\n",
    "\n",
    "model = tf.keras.models.load_model(r\"model_vgg16_1.h5\")\n",
    "filenames = test_generator.filenames\n",
    "nb_samples = len(test_generator)\n",
    "y_prob=[]\n",
    "y_act=[]\n",
    "test_generator.reset()\n",
    "for _ in range(nb_samples):\n",
    "    X_test,Y_test = test_generator.next()\n",
    "    y_prob.append(model.predict(X_test))\n",
    "    y_act.append(Y_test)\n",
    "\n",
    "predicted_class = [list(train_generator.class_indices.keys())[i.argmax()] for i in y_prob]\n",
    "actual_class = [list(train_generator.class_indices.keys())[i.argmax()] for i in y_act]\n",
    "\n",
    "out_df = pd.DataFrame(np.vstack([predicted_class,actual_class]).T,columns=['predicted_class','actual_class'])\n",
    "confusion_matrix = pd.crosstab(out_df['actual_class'],out_df['predicted_class'], rownames=['Actual'], colnames=['Predicted'])\n",
    "\n",
    "sns.heatmap(confusion_matrix,cmap='Blues', annot=True,fmt='d')\n",
    "plt.show()\n",
    "print('Test accuracy : {}'.format((np.diagonal(confusion_matrix).sum()/confusion_matrix.sum().sum()*100)))"
   ]
  }
 ],
 "metadata": {
  "kernelspec": {
   "display_name": "Python 3",
   "language": "python",
   "name": "python3"
  },
  "language_info": {
   "codemirror_mode": {
    "name": "ipython",
    "version": 3
   },
   "file_extension": ".py",
   "mimetype": "text/x-python",
   "name": "python",
   "nbconvert_exporter": "python",
   "pygments_lexer": "ipython3",
   "version": "3.7.0"
  }
 },
 "nbformat": 4,
 "nbformat_minor": 5
}
